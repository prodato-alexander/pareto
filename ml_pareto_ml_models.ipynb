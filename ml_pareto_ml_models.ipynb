{
 "cells": [
  {
   "cell_type": "markdown",
   "id": "bfcc7286-de0e-4d49-a806-2b9b179c7220",
   "metadata": {},
   "source": [
    "Vorbereitung der Umgebung Benötigte Packete -nympy -matplotlib -ucimlrepo -scikit-learn\n",
    "\n",
    "-jupyter-notebook Umgebung (z.B. jupyterlab)\n",
    "\n",
    "jupyterlab mit \"jupyter-lab\" in Konsole ausführen"
   ]
  },
  {
   "cell_type": "markdown",
   "id": "0883aea6-f4e7-488f-8226-67a11c420b7e",
   "metadata": {},
   "source": [
    "# ###########################################################################################\n",
    "# HANDS-ON: Bestimme die schnellsten und genauesten ML-Classifier ###########################\n",
    "# Optimierungsziel: Minimiere Trainingszeit, Maximiere Genaugkeit (accuracy) ################\n",
    "# ###########################################################################################"
   ]
  },
  {
   "cell_type": "code",
   "execution_count": null,
   "id": "a74c9582-9cf0-4bad-8fb8-05a495d323e4",
   "metadata": {},
   "outputs": [],
   "source": [
    "# lade bib für die Beispieldaten\n",
    "from ucimlrepo import fetch_ucirepo\n",
    "\n",
    "# lade standard-bibliotheken\n",
    "import time\n",
    "import pandas as pd\n",
    "import numpy as np\n",
    "from matplotlib import pyplot as plt\n",
    "\n",
    "# lade scikit-learn\n",
    "from sklearn.model_selection import train_test_split\n",
    "from sklearn.neighbors import KNeighborsClassifier\n",
    "from sklearn.neighbors import NearestCentroid\n",
    "from sklearn.metrics import accuracy_score\n",
    "from sklearn.ensemble import RandomForestClassifier\n",
    "from sklearn.naive_bayes import GaussianNB\n",
    "from sklearn.tree import DecisionTreeClassifier"
   ]
  },
  {
   "cell_type": "code",
   "execution_count": null,
   "id": "33af1589-c810-4ebd-8872-5ca2fa96677c",
   "metadata": {},
   "outputs": [],
   "source": [
    "# falls ihr zuviele Meldungen beim ausführen bekommt, könnt ihr die Warnings ausschalten\n",
    "#import warnings\n",
    "#warnings.filterwarnings(\"ignore\")"
   ]
  },
  {
   "cell_type": "code",
   "execution_count": null,
   "id": "09f2a047-c9eb-441e-a03c-f8fd92a5cbc8",
   "metadata": {},
   "outputs": [],
   "source": [
    "# definiere Funktion zum Auswerten (gerne verbessern)\n",
    "def calculateAccuracyVsTime(classifiers, n_repetitions, test_size=0.2):\n",
    "    # n_repetitions -> wir berechnen Mittelwert aus dieser Zahl der Wiederholungen. Falls ihr später einen langsamen classifier erwischt, hier die Anzahl entsprechend runterdrehen\n",
    "    calculated_values = []\n",
    "\n",
    "    for classifier_idx, (name, classifier) in enumerate(classifiers.items()):\n",
    "        start_time = time.time()\n",
    "        accuracies = []\n",
    "        for iRep in range(n_repetitions):\n",
    "            # wähle zufälligen train-test split in jeder Iteration\n",
    "            X_train, X_test, y_train, y_test = train_test_split(X, y, test_size=0.2) \n",
    "            # trainiere das Modell und berechne predictions (ich musste values.ravel() aufgrund des falschen Shapes einbauen, vllt geht es schöner)\n",
    "            curr_accuracy = accuracy_score(y_test.values.ravel(), classifier.fit(X_train, y_train.values.ravel()).predict(X_test)) \n",
    "            accuracies.append(curr_accuracy * 100.)\n",
    "        end_time = time.time()\n",
    "        accuracy = np.mean(accuracies)\n",
    "        elapsed_time = 1000*(end_time - start_time) / n_repetitions # wir vermischen absichtlich train- und predict-Zeit\n",
    "        print(\"Idx: %d, Accuracy (test) for %s: %.1f%%, duration: %.2fms\" % (classifier_idx, name, accuracy, elapsed_time ))\n",
    "        calculated_values.append((name, accuracy, elapsed_time, classifier_idx))\n",
    "\n",
    "\n",
    "    column_names = ['Model', 'Accuracy', 'Time', 'Idx']\n",
    "    df = pd.DataFrame(calculated_values, columns=column_names)\n",
    "    fig, (ax1) = plt.subplots(1,1)\n",
    "\n",
    "    # just plotting, passt es an, wenn ihr das mit den Farben schneller hinbekommt ;)\n",
    "    plt.scatter(df['Time'], df['Accuracy'], c = df['Idx'], s=200, cmap='viridis')\n",
    "    plt.xlabel('Time [ms]')\n",
    "    plt.ylabel('Accuracy [%]')\n",
    "    plt.title('Accuracy vs Time')\n",
    "    plt.colorbar(label='Index')\n",
    "    fig.set_size_inches(15,10)\n",
    "\n",
    "    # Falls ihr die Werte in Excel anschauen wollt, hier auskommentieren und output in Excel copy-pasten\n",
    "    #for sublist in calculated_values:\n",
    "    #    print(\";\".join(map(str, sublist)))\n",
    "    \n",
    "    return calculated_values"
   ]
  },
  {
   "cell_type": "code",
   "execution_count": null,
   "id": "621e146f-117b-48e6-a688-a05c20d097c3",
   "metadata": {},
   "outputs": [],
   "source": [
    "# fetch dataset\n",
    "# Schaut auf https://archive.ics.uci.edu/dataset/186/wine+quality die Infos zum Datensatz nach, falls ihr wissen wollt welche Parameter da vorhanden sind\n",
    "\n",
    "wine_quality = fetch_ucirepo(id=186) #mMn sind hier Rot- und Weißweindaten vermischt, was u.U. die Datenbasis verzerrt, ist aber für unsere Fragestellung nicht so entscheidend  ;)\n",
    "\n",
    "# data (as pandas dataframes)\n",
    "X = wine_quality.data.features\n",
    "y = wine_quality.data.targets\n",
    "\n",
    "# zur Info die Werteverteilung\n",
    "print(X.describe())\n",
    "print(y.describe())"
   ]
  },
  {
   "cell_type": "markdown",
   "id": "2a29b333-23ce-4168-a8cf-7b4bef357770",
   "metadata": {},
   "source": [
    "# Aufgabe zur Pareto-Front: Genauigkeit vs. Trainingszeit"
   ]
  },
  {
   "cell_type": "code",
   "execution_count": null,
   "id": "f32f7d19-0540-419b-b5d0-5797a1604f1f",
   "metadata": {},
   "outputs": [],
   "source": [
    "# führt zuerst das Skript aus und schaut das Ergebnis an, Anpassungen und Aufgaben kommen im Anschluss, ihr könnt dann zurück-kehren\n",
    "\n",
    "\n",
    "# wir definieren hier die classifier, die wir untersuchen möchten. Das Ziel ist es die schnellsten (Trainingszeit) und die genauigsten (accuracy) zu finden.\n",
    "# Also das Optimierungsziel lautet maximiere Genaugkeit, minimiere Traingszeit\n",
    "\n",
    "# hier, die ich schon ausprobiert waren, die aber eher schlecht performen (und den Plot unübersichtlich machen), könnt aber gerne sich selbst überzeugen\n",
    "#    \"SVC (ovo)\": svm.SVC(decision_function_shape='ovo'),\n",
    "#    \"MLP Classifier 15\": MLPClassifier(max_iter=1000, hidden_layer_sizes=(15,)),\n",
    "\n",
    "classifiers_init = {\n",
    " \"RFC (10)\":  RandomForestClassifier(n_estimators=10),\n",
    " \"RFC (20)\":  RandomForestClassifier(n_estimators=20),\n",
    " \"DTC (4)\":   DecisionTreeClassifier(max_depth=4),\n",
    " \"DTC (None)\":DecisionTreeClassifier(max_depth=None),\n",
    " \"KNC (10)\":  KNeighborsClassifier(n_neighbors=10),\n",
    " \"KNC (7)\":   KNeighborsClassifier(n_neighbors=7),\n",
    " \"KNC (5)\":   KNeighborsClassifier(n_neighbors=5),\n",
    " \"GNB\":       GaussianNB(),\n",
    " \"NearestCentroid (21)\": NearestCentroid(shrink_threshold=21),\n",
    "}\n",
    "\n",
    "n_repetitions = 100 # wir berechnen Mittelwert aus dieser Zahl der Wiederholungen. Falls ihr später einen langsamen classifier erwischt, hier die Anzahl entsprechend runterdrehen\n",
    "\n",
    "calculated_values = calculateAccuracyVsTime(classifiers_init, n_repetitions)\n"
   ]
  },
  {
   "cell_type": "markdown",
   "id": "ba54b8fc-60f7-4db0-95a2-ac8a4f2f198c",
   "metadata": {},
   "source": [
    "# Aufgaben:\n",
    "- Welche der dargestellten Punkte (Classifier) bilden die Pareto-Front ?\n",
    "- Welche der dargestellten Punkte (Classifier) sind nicht optimal im Bezug auf Genaugkeit / Trainingszeit\n",
    "- Könnt ihr ableiten, mit welchen Parametern (ML-Modellen) man die beste Genauigkeit (je nach Trainingszeit) erzielt ?\n",
    "- Könnt ihr weitere pareto-optimale classifier finden (Übersichtlichkeits- und vergleichbarkeitshalber den Code copy-pasten und anpassen, um vorherige Plots behalten zu können)\n",
    "    - Parameteranpassung der bestehenden (Parameter in classifiers anpassen)\n",
    "    - Andere Classifier: siehe scikit-learn Doku (z.b. https://scikit-learn.org/stable/auto_examples/classification/plot_classifier_comparison.html#sphx-glr-auto-examples-classification-plot-classifier-comparison-py oder https://scikit-learn.org/stable/supervised_learning.html#supervised-learning)\n",
    "        - Erweiterung der classifier-variable \"classifiers = {...}\" um neue Callsifier. Vergebt entsprechenden Namen um in der Textausgabe besser die Genaugikeit zuordnen zu können\n",
    "        - Denkt dran die entsprechenden Bibliotheken für den neuen Classifier einzubinden\n",
    "- (Optional) Was passiert, wenn man test_size=0.2 ändert ? \n",
    "- (Optional) Hier wurden Classifier verwendet (Bewertungen: 3,4,5,6,7,8,9). Alternativ könnte man ebenso hier Regressoren (langsamer) verwenden und \"Zwischenbewertungen\" bestimmen.\n",
    "- (Optional) Man kann den Test mit einem anderen Datensatz ausprobieren (id ändern fetch_ucirepo(id=186)), schaut vorher in Doku nach ob der Datensatz in Frage käme"
   ]
  },
  {
   "cell_type": "code",
   "execution_count": null,
   "id": "7579a193-d4af-4690-84f7-380443b82be9",
   "metadata": {},
   "outputs": [],
   "source": [
    "# hier eure angepasste classifier\n",
    "\n",
    "# from sklearn.xxxxxx import xxxxxx\n",
    "\n",
    "classifiers_yours = {\n",
    " \"RFC (10)\":  RandomForestClassifier(n_estimators=10),\n",
    " \"RFC (20)\":  RandomForestClassifier(n_estimators=20),\n",
    " \"DTC (4)\":   DecisionTreeClassifier(max_depth=4),\n",
    " \"DTC (None)\":DecisionTreeClassifier(max_depth=None),\n",
    " \"KNC (10)\":  KNeighborsClassifier(n_neighbors=10),\n",
    " \"KNC (7)\":   KNeighborsClassifier(n_neighbors=7),\n",
    " \"KNC (5)\":   KNeighborsClassifier(n_neighbors=5),\n",
    " \"GNB\":       GaussianNB(),\n",
    " \"NearestCentroid (21)\": NearestCentroid(shrink_threshold=21),\n",
    " # .... the stage is yours\n",
    "}\n",
    "n_repetitions = 100\n",
    "calculated_values = calculateAccuracyVsTime(classifiers_yours, n_repetitions)"
   ]
  },
  {
   "cell_type": "code",
   "execution_count": null,
   "id": "545e5586-a432-4056-8122-231030f701f9",
   "metadata": {},
   "outputs": [],
   "source": []
  }
 ],
 "metadata": {
  "kernelspec": {
   "display_name": "Python 3 (ipykernel)",
   "language": "python",
   "name": "python3"
  },
  "language_info": {
   "codemirror_mode": {
    "name": "ipython",
    "version": 3
   },
   "file_extension": ".py",
   "mimetype": "text/x-python",
   "name": "python",
   "nbconvert_exporter": "python",
   "pygments_lexer": "ipython3",
   "version": "3.9.4"
  }
 },
 "nbformat": 4,
 "nbformat_minor": 5
}
